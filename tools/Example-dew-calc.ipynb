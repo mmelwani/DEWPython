{
 "cells": [
  {
   "cell_type": "markdown",
   "id": "daa0df3a",
   "metadata": {},
   "source": [
    "The DEW package allows the user to compute the thermodynamic and elastic properties of various aqueous inputs for a general range of 100 - 1200 C and a pressure range of 1.0 - 60 kb. It is based on the DEW spreadsheet and behaves similarly. "
   ]
  },
  {
   "cell_type": "code",
   "execution_count": 36,
   "id": "dc6ccdf3",
   "metadata": {},
   "outputs": [],
   "source": [
    "import numpy as np\n",
    "import DEWPython\n",
    "from DEWPython import DEWModel as dm"
   ]
  },
  {
   "cell_type": "code",
   "execution_count": 37,
   "id": "b94b181b",
   "metadata": {},
   "outputs": [],
   "source": [
    "reaction = dm.DEW()"
   ]
  },
  {
   "cell_type": "markdown",
   "id": "789406e5-52d5-45c9-b8ab-050d30758ac3",
   "metadata": {},
   "source": [
    "Enter the pressure and temperature bounds, as well as the increments, in C and kbar. "
   ]
  },
  {
   "cell_type": "code",
   "execution_count": 38,
   "id": "db3063aa",
   "metadata": {},
   "outputs": [],
   "source": [
    "pt_arr = [[100,1000,10], [1,60,1]] # temp (C), press (kbar)"
   ]
  },
  {
   "cell_type": "markdown",
   "id": "640369e6-a9ef-4153-8998-89a9a0bc1a1f",
   "metadata": {},
   "source": [
    "The following is the batch mode input method. See documentation for details. It is also possible to enter all these parameters and the pt_arr above, in interactive mode (see README on the Github page). "
   ]
  },
  {
   "cell_type": "code",
   "execution_count": 39,
   "id": "49bd18b7",
   "metadata": {},
   "outputs": [],
   "source": [
    "reaction.run(pt_arr, \n",
    "             min_inp =[], aq_inp = [['CO2,AQ','4'],['H2,aq','5']], g_inp = [], h2o_inp = 0,\n",
    "             min_out = [], aq_out =[['Oxaloacetate2-','1'],['H+','2']], g_out = [], h2o_out = 3,\n",
    "             ptInp = 'Regular', rhoWat = 'Z&D 2005', forceBool = False, \n",
    "             dieEQ = 'Sverjensky', forceSC =True, WFEQ ='D&H 1978', dsV = False, \n",
    "             pdsV = False, DV = False, makePlots = False)"
   ]
  },
  {
   "cell_type": "code",
   "execution_count": 40,
   "id": "0d878eb6",
   "metadata": {},
   "outputs": [
    {
     "name": "stdout",
     "output_type": "stream",
     "text": [
      "Input the name of the CSV file: oxaloform\n"
     ]
    }
   ],
   "source": [
    "reaction.export_to_csv()"
   ]
  },
  {
   "cell_type": "code",
   "execution_count": null,
   "id": "17b56f0b",
   "metadata": {},
   "outputs": [],
   "source": []
  }
 ],
 "metadata": {
  "kernelspec": {
   "display_name": "Python 3 (ipykernel)",
   "language": "python",
   "name": "python3"
  },
  "language_info": {
   "codemirror_mode": {
    "name": "ipython",
    "version": 3
   },
   "file_extension": ".py",
   "mimetype": "text/x-python",
   "name": "python",
   "nbconvert_exporter": "python",
   "pygments_lexer": "ipython3",
   "version": "3.11.7"
  }
 },
 "nbformat": 4,
 "nbformat_minor": 5
}
